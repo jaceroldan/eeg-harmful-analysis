{
 "cells": [
  {
   "cell_type": "code",
   "execution_count": 1,
   "id": "0042a53a",
   "metadata": {},
   "outputs": [],
   "source": [
    "import pandas as pd"
   ]
  },
  {
   "cell_type": "code",
   "execution_count": 3,
   "id": "95f5b8a6",
   "metadata": {},
   "outputs": [
    {
     "name": "stdout",
     "output_type": "stream",
     "text": [
      "       eeg_id  eeg_sub_id  eeg_label_offset_seconds  spectrogram_id  \\\n",
      "0  1628180742           0                       0.0          353733   \n",
      "1  1628180742           1                       6.0          353733   \n",
      "2  1628180742           2                       8.0          353733   \n",
      "3  1628180742           3                      18.0          353733   \n",
      "4  1628180742           4                      24.0          353733   \n",
      "\n",
      "   spectrogram_sub_id  spectrogram_label_offset_seconds    label_id  \\\n",
      "0                   0                               0.0   127492639   \n",
      "1                   1                               6.0  3887563113   \n",
      "2                   2                               8.0  1142670488   \n",
      "3                   3                              18.0  2718991173   \n",
      "4                   4                              24.0  3080632009   \n",
      "\n",
      "   patient_id expert_consensus  seizure_vote  lpd_vote  gpd_vote  lrda_vote  \\\n",
      "0       42516          Seizure             3         0         0          0   \n",
      "1       42516          Seizure             3         0         0          0   \n",
      "2       42516          Seizure             3         0         0          0   \n",
      "3       42516          Seizure             3         0         0          0   \n",
      "4       42516          Seizure             3         0         0          0   \n",
      "\n",
      "   grda_vote  other_vote  \n",
      "0          0           0  \n",
      "1          0           0  \n",
      "2          0           0  \n",
      "3          0           0  \n",
      "4          0           0  \n"
     ]
    }
   ],
   "source": [
    "# Load the metadata CSV file\n",
    "metadata_df = pd.read_csv('train.csv')\n",
    "print(metadata_df.head())  # Display the first few rows to check the data"
   ]
  },
  {
   "cell_type": "code",
   "execution_count": 10,
   "id": "eb155ebd",
   "metadata": {},
   "outputs": [],
   "source": [
    "# data loaders\n",
    "def load_eeg_data(eeg_id):\n",
    "    # Adjust the path and file reading method according to your data format\n",
    "    file_path = f'train_eegs/{eeg_id}.parquet'  # Modify path as needed\n",
    "    eeg_data = pd.read_parquet(file_path)\n",
    "    return eeg_data\n",
    "\n",
    "def load_spectrogram_data(spectrogram_id):\n",
    "    # Adjust the path and file reading method according to your data format\n",
    "    file_path = f'train_spectrograms/{spectrogram_id}.parquet'  # Modify path as needed\n",
    "    spectrogram_data = pd.read_parquet(file_path)\n",
    "    return spectrogram_data"
   ]
  },
  {
   "cell_type": "code",
   "execution_count": 12,
   "id": "3f29d884",
   "metadata": {
    "scrolled": true
   },
   "outputs": [
    {
     "name": "stdout",
     "output_type": "stream",
     "text": [
      "         Fp1         F3         C3          P3          F7          T3  \\\n",
      "0 -80.519997 -70.540001 -80.110001 -108.750000 -120.330002  -88.620003   \n",
      "1 -80.449997 -70.330002 -81.760002 -107.669998 -120.769997  -90.820000   \n",
      "2 -80.209999 -75.870003 -82.050003 -106.010002 -117.500000  -87.489998   \n",
      "3 -84.709999 -75.339996 -87.480003 -108.970001 -121.410004  -94.750000   \n",
      "4 -90.570000 -80.790001 -93.000000 -113.870003 -129.960007 -102.860001   \n",
      "\n",
      "           T5          O1          Fz          Cz         Pz        Fp2  \\\n",
      "0 -101.750000 -104.489998  -99.129997  -90.389999 -97.040001 -77.989998   \n",
      "1 -104.260002  -99.730003  -99.070000  -92.290001 -96.019997 -84.500000   \n",
      "2  -99.589996  -96.820000 -119.680000  -99.360001 -91.110001 -99.440002   \n",
      "3 -105.370003 -100.279999 -113.839996 -102.059998 -95.040001 -99.230003   \n",
      "4 -118.599998 -101.099998 -107.660004 -102.339996 -98.510002 -95.300003   \n",
      "\n",
      "           F4          C4          P4         F8         T4          T6  \\\n",
      "0  -88.830002 -112.120003 -108.110001 -95.949997 -98.360001 -121.730003   \n",
      "1  -84.989998 -115.610001 -103.860001 -97.470001 -89.290001 -115.500000   \n",
      "2 -104.589996 -127.529999 -113.349998 -95.870003 -96.019997 -123.879997   \n",
      "3 -101.220001 -125.769997 -111.889999 -97.459999 -97.180000 -128.940002   \n",
      "4  -88.930000 -115.639999  -99.800003 -97.500000 -88.730003 -114.849998   \n",
      "\n",
      "           O2        EKG  \n",
      "0 -106.449997   7.920000  \n",
      "1 -102.059998  29.219999  \n",
      "2 -105.790001  45.740002  \n",
      "3 -109.889999  83.870003  \n",
      "4 -100.250000  97.769997  \n",
      "   time  LL_0.59  LL_0.78  LL_0.98  LL_1.17  LL_1.37    LL_1.56    LL_1.76  \\\n",
      "0     1     4.26    10.98     9.05    13.65    11.49   8.930000  18.840000   \n",
      "1     3     2.65     3.97    12.18    13.26    14.21  13.230000   9.650000   \n",
      "2     5     4.18     4.53     8.77    14.26    13.36  16.559999  19.219999   \n",
      "3     7     2.41     3.21     4.92     8.07     5.97  12.420000  10.820000   \n",
      "4     9     2.29     2.44     2.77     4.62     5.39   7.080000   9.840000   \n",
      "\n",
      "   LL_1.95    LL_2.15  ...  RP_18.16  RP_18.36  RP_18.55  RP_18.75  RP_18.95  \\\n",
      "0    19.26  19.240000  ...      0.31      0.17      0.28      0.19      0.24   \n",
      "1     8.11  11.280000  ...      0.15      0.13      0.14      0.24      0.24   \n",
      "2    17.51  22.650000  ...      0.29      0.21      0.16      0.25      0.28   \n",
      "3    14.96  21.809999  ...      0.33      0.51      0.49      0.64      0.58   \n",
      "4    12.27  14.410000  ...      0.44      0.38      0.48      0.63      0.45   \n",
      "\n",
      "   RP_19.14  RP_19.34  RP_19.53  RP_19.73  RP_19.92  \n",
      "0      0.27      0.29      0.16      0.22      0.19  \n",
      "1      0.36      0.35      0.31      0.36      0.40  \n",
      "2      0.28      0.34      0.48      0.44      0.48  \n",
      "3      0.42      0.32      0.31      0.32      0.33  \n",
      "4      0.45      0.49      0.33      0.31      0.34  \n",
      "\n",
      "[5 rows x 401 columns]\n"
     ]
    }
   ],
   "source": [
    "import matplotlib.pyplot as plt\n",
    "\n",
    "# Load EEG and spectrogram data for the first record in the DataFrame\n",
    "first_record = metadata_df.iloc[0]\n",
    "eeg_data = load_eeg_data(first_record['eeg_id'])\n",
    "spectrogram_data = load_spectrogram_data(first_record['spectrogram_id'])\n",
    "\n",
    "# Display EEG data summary\n",
    "print(eeg_data.head())\n",
    "print(spectrogram_data.head())\n",
    "\n",
    "# If spectrogram data is stored as an array inside the DataFrame\n",
    "if 'spectrogram' in spectrogram_data.columns:\n",
    "    plt.imshow(spectrogram_data['spectrogram'].iloc[0], cmap='gray')\n",
    "    plt.title('Spectrogram')\n",
    "    plt.xlabel('Time')\n",
    "    plt.ylabel('Frequency')\n",
    "    plt.show()"
   ]
  },
  {
   "cell_type": "markdown",
   "id": "5a060eae",
   "metadata": {},
   "source": [
    "# EDA of Spectrogram Data"
   ]
  },
  {
   "cell_type": "code",
   "execution_count": null,
   "id": "c481d748",
   "metadata": {},
   "outputs": [],
   "source": []
  }
 ],
 "metadata": {
  "kernelspec": {
   "display_name": "Python 3 (ipykernel)",
   "language": "python",
   "name": "python3"
  },
  "language_info": {
   "codemirror_mode": {
    "name": "ipython",
    "version": 3
   },
   "file_extension": ".py",
   "mimetype": "text/x-python",
   "name": "python",
   "nbconvert_exporter": "python",
   "pygments_lexer": "ipython3",
   "version": "3.7.10"
  }
 },
 "nbformat": 4,
 "nbformat_minor": 5
}
